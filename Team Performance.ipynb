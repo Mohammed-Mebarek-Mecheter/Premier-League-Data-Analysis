{
 "cells": [
  {
   "cell_type": "code",
   "execution_count": 6,
   "id": "initial_id",
   "metadata": {
    "collapsed": true,
    "ExecuteTime": {
     "end_time": "2023-09-02T18:32:04.471223700Z",
     "start_time": "2023-09-02T18:32:04.455084100Z"
    }
   },
   "outputs": [],
   "source": [
    "import pandas as pd\n",
    "import numpy as np\n",
    "import matplotlib.pyplot as plt\n",
    "import seaborn as sns"
   ]
  },
  {
   "cell_type": "code",
   "execution_count": 2,
   "outputs": [],
   "source": [
    "# Load the adjusted dataset\n",
    "df = pd.read_csv(\"premier_league_adjusted.csv\")"
   ],
   "metadata": {
    "collapsed": false,
    "ExecuteTime": {
     "end_time": "2023-09-02T17:19:02.270597400Z",
     "start_time": "2023-09-02T17:19:02.194856600Z"
    }
   },
   "id": "85b507d6708fc3a6"
  },
  {
   "cell_type": "markdown",
   "source": [
    "#### Best overall win percentage at home and away"
   ],
   "metadata": {
    "collapsed": false
   },
   "id": "cc829923f7feba9c"
  },
  {
   "cell_type": "code",
   "execution_count": 5,
   "outputs": [
    {
     "name": "stdout",
     "output_type": "stream",
     "text": [
      "The team with the best overall win percentage at home is Manchester City with 89.47%.\n",
      "The team with the best overall win percentage away is Leeds United with 73.68%.\n"
     ]
    }
   ],
   "source": [
    "# Define a function to calculate win percentage\n",
    "def calculate_win_percentage(outcomes):\n",
    "    total_matches = len(outcomes)\n",
    "    wins = np.sum(outcomes == 'Win')\n",
    "    win_percentage = (wins / total_matches) * 100\n",
    "    return win_percentage\n",
    "\n",
    "# Define a function to determine match outcome (win, loss, draw) based on score\n",
    "def match_outcome(row):\n",
    "    home_score, away_score = map(int, row['Score'].split('–'))  # Use en dash '–'\n",
    "    if home_score > away_score:\n",
    "        return 'Win'\n",
    "    elif home_score < away_score:\n",
    "        return 'Loss'\n",
    "    else:\n",
    "        return 'Draw'\n",
    "\n",
    "# Apply the match outcome function to each row to create an 'Outcome' column\n",
    "df['Outcome'] = df.apply(match_outcome, axis=1)\n",
    "\n",
    "# Calculate win percentage at home for each team\n",
    "home_win_percentage = df.groupby('Home_Team')['Outcome'].agg(calculate_win_percentage)\n",
    "\n",
    "# Calculate win percentage away for each team\n",
    "away_win_percentage = df.groupby('Away_Team')['Outcome'].agg(calculate_win_percentage)\n",
    "\n",
    "# Find the team with the highest win percentage at home\n",
    "best_home_team = home_win_percentage.idxmax()\n",
    "best_home_win_percentage = home_win_percentage.max()\n",
    "\n",
    "# Find the team with the highest win percentage away\n",
    "best_away_team = away_win_percentage.idxmax()\n",
    "best_away_win_percentage = away_win_percentage.max()\n",
    "\n",
    "print(f\"The team with the best overall win percentage at home is {best_home_team} with {best_home_win_percentage:.2f}%.\")\n",
    "print(f\"The team with the best overall win percentage away is {best_away_team} with {best_away_win_percentage:.2f}%.\")"
   ],
   "metadata": {
    "collapsed": false,
    "ExecuteTime": {
     "end_time": "2023-09-02T17:21:10.820300900Z",
     "start_time": "2023-09-02T17:21:10.739842300Z"
    }
   },
   "id": "7c62c3298dbf6b19"
  },
  {
   "cell_type": "markdown",
   "source": [
    "#### The correlation between a team's xG and their performance in terms of wins"
   ],
   "metadata": {
    "collapsed": false
   },
   "id": "cbf5a9ada63207a1"
  },
  {
   "cell_type": "code",
   "execution_count": 7,
   "outputs": [
    {
     "data": {
      "text/plain": "<Figure size 800x600 with 1 Axes>",
      "image/png": "[encoded data removed]"
     },
     "metadata": {},
     "output_type": "display_data"
    },
    {
     "name": "stdout",
     "output_type": "stream",
     "text": [
      "The Pearson correlation coefficient between Wins and Average xG is 0.14\n"
     ]
    }
   ],
   "source": [
    "# Calculate total wins for each team\n",
    "total_wins = df[df['Outcome'] == 'Win'].groupby('Home_Team')['Outcome'].count() + df[df['Outcome'] == 'Win'].groupby('Away_Team')['Outcome'].count()\n",
    "total_wins = total_wins.fillna(0).astype(int)\n",
    "\n",
    "# Calculate the average xG for each team\n",
    "avg_xg_home = df.groupby('Home_Team')['Home_xG'].mean()\n",
    "avg_xg_away = df.groupby('Away_Team')['Away_xG'].mean()\n",
    "avg_xg = (avg_xg_home + avg_xg_away) / 2\n",
    "\n",
    "# Create a DataFrame to hold the data for analysis\n",
    "team_performance = pd.DataFrame({'Wins': total_wins, 'Average xG': avg_xg})\n",
    "\n",
    "# Calculate the Pearson correlation coefficient\n",
    "correlation = team_performance['Wins'].corr(team_performance['Average xG'])\n",
    "\n",
    "# Plot a scatterplot to visualize the relationship\n",
    "plt.figure(figsize=(8, 6))\n",
    "sns.scatterplot(data=team_performance, x='Average xG', y='Wins')\n",
    "plt.title(f'Correlation between Wins and Average xG (Correlation = {correlation:.2f})')\n",
    "plt.xlabel('Average xG')\n",
    "plt.ylabel('Wins')\n",
    "plt.grid(True)\n",
    "plt.show()\n",
    "\n",
    "print(f\"The Pearson correlation coefficient between Wins and Average xG is {correlation:.2f}\")"
   ],
   "metadata": {
    "collapsed": false,
    "ExecuteTime": {
     "end_time": "2023-09-02T18:32:32.742388400Z",
     "start_time": "2023-09-02T18:32:32.086443200Z"
    }
   },
   "id": "97e8a9c952b05094"
  },
  {
   "cell_type": "markdown",
   "source": [
    "#### The highest total xG over the last 5 seasons"
   ],
   "metadata": {
    "collapsed": false
   },
   "id": "325e4ea7f46f6fa5"
  },
  {
   "cell_type": "code",
   "execution_count": 8,
   "outputs": [
    {
     "name": "stdout",
     "output_type": "stream",
     "text": [
      "The team with the highest total xG over the last 5 seasons is Manchester City with a total of 393.50 xG.\n"
     ]
    }
   ],
   "source": [
    "# Calculate the total xG for each team (both home and away matches)\n",
    "total_xg_home = df.groupby('Home_Team')['Home_xG'].sum()\n",
    "total_xg_away = df.groupby('Away_Team')['Away_xG'].sum()\n",
    "total_xg = total_xg_home + total_xg_away\n",
    "\n",
    "# Find the team with the highest total xG\n",
    "highest_total_xg_team = total_xg.idxmax()\n",
    "highest_total_xg_value = total_xg.max()\n",
    "\n",
    "print(f\"The team with the highest total xG over the last 5 seasons is {highest_total_xg_team} with a total of {highest_total_xg_value:.2f} xG.\")"
   ],
   "metadata": {
    "collapsed": false,
    "ExecuteTime": {
     "end_time": "2023-09-02T18:35:37.202833900Z",
     "start_time": "2023-09-02T18:35:37.181041100Z"
    }
   },
   "id": "6805005074d1bee7"
  }
 ],
 "metadata": {
  "kernelspec": {
   "display_name": "Python 3",
   "language": "python",
   "name": "python3"
  },
  "language_info": {
   "codemirror_mode": {
    "name": "ipython",
    "version": 2
   },
   "file_extension": ".py",
   "mimetype": "text/x-python",
   "name": "python",
   "nbconvert_exporter": "python",
   "pygments_lexer": "ipython2",
   "version": "2.7.6"
  }
 },
 "nbformat": 4,
 "nbformat_minor": 5
}
