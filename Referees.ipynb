{
 "cells": [
  {
   "cell_type": "code",
   "execution_count": 1,
   "id": "initial_id",
   "metadata": {
    "collapsed": true,
    "ExecuteTime": {
     "end_time": "2023-09-02T18:38:04.139921700Z",
     "start_time": "2023-09-02T18:38:04.131872800Z"
    }
   },
   "outputs": [],
   "source": [
    "import pandas as pd\n",
    "import numpy as np"
   ]
  },
  {
   "cell_type": "code",
   "execution_count": 2,
   "outputs": [],
   "source": [
    "# Load the adjusted dataset\n",
    "df = pd.read_csv(\"premier_league_adjusted.csv\")"
   ],
   "metadata": {
    "collapsed": false,
    "ExecuteTime": {
     "end_time": "2023-09-02T18:38:07.310055200Z",
     "start_time": "2023-09-02T18:38:07.257564900Z"
    }
   },
   "id": "d10b49a8b6e889ca"
  },
  {
   "cell_type": "markdown",
   "source": [
    "#### The top referees in terms of the number of matches officiated"
   ],
   "metadata": {
    "collapsed": false
   },
   "id": "e762e235efffe0fa"
  },
  {
   "cell_type": "code",
   "execution_count": 3,
   "outputs": [
    {
     "name": "stdout",
     "output_type": "stream",
     "text": [
      "Top Referees in Terms of Matches Officiated:\n",
      "Anthony Taylor    150\n",
      "Michael Oliver    150\n",
      "Paul Tierney      150\n",
      "Simon Hooper      145\n",
      "Robert Jones      130\n",
      "Stuart Attwell    125\n",
      "Andy Madley       120\n",
      "Peter Bankes      105\n",
      "Craig Pawson      105\n",
      "David Coote       105\n",
      "Name: Referee, dtype: int64\n"
     ]
    }
   ],
   "source": [
    "# Count the number of matches officiated by each referee\n",
    "referee_matches_count = df['Referee'].value_counts()\n",
    "\n",
    "# Find the top referees with the highest number of matches officiated\n",
    "top_referees = referee_matches_count.head(10)  # You can adjust the number as needed\n",
    "\n",
    "print(\"Top Referees in Terms of Matches Officiated:\")\n",
    "print(top_referees)"
   ],
   "metadata": {
    "collapsed": false,
    "ExecuteTime": {
     "end_time": "2023-09-02T18:38:23.262085900Z",
     "start_time": "2023-09-02T18:38:23.193609500Z"
    }
   },
   "id": "306c839431e94475"
  },
  {
   "cell_type": "markdown",
   "source": [
    "#### The correlation between the referee and the number of goals scored in a match"
   ],
   "metadata": {
    "collapsed": false
   },
   "id": "fb42f892531e0b0f"
  },
  {
   "cell_type": "code",
   "execution_count": 10,
   "outputs": [
    {
     "name": "stdout",
     "output_type": "stream",
     "text": [
      "The correlation between the referee and the number of goals scored in a match is 0.09\n"
     ]
    }
   ],
   "source": [
    "# Replace en dash with hyphen in the 'Score' column\n",
    "df['Score'] = df['Score'].str.replace('–', '-')\n",
    "\n",
    "# Calculate the total goals (sum of home and away goals) for each match\n",
    "df['Total_Goals'] = df['Score'].apply(lambda x: sum(map(int, x.split('-'))))\n",
    "\n",
    "# Calculate the correlation coefficient between the referee and total goals\n",
    "correlation = np.corrcoef(df['Total_Goals'], df.groupby('Referee')['Referee'].transform('count'))[0, 1]\n",
    "\n",
    "print(f\"The correlation between the referee and the number of goals scored in a match is {correlation:.2f}\")"
   ],
   "metadata": {
    "collapsed": false,
    "ExecuteTime": {
     "end_time": "2023-09-02T19:03:09.212549600Z",
     "start_time": "2023-09-02T19:03:09.128513100Z"
    }
   },
   "id": "56fbd9726a74c932"
  },
  {
   "cell_type": "markdown",
   "source": [
    "#### Referees associated with more red cards or penalties"
   ],
   "metadata": {
    "collapsed": false
   },
   "id": "40773d73d11f74f6"
  },
  {
   "cell_type": "code",
   "execution_count": 11,
   "outputs": [
    {
     "name": "stdout",
     "output_type": "stream",
     "text": [
      "Referee with the most red cards: Simon Hooper (305 red cards)\n",
      "Referee with the most penalties: Anthony Taylor (250 penalties)\n"
     ]
    }
   ],
   "source": [
    "# Create a column to represent the number of red cards in each match\n",
    "df['Red_Cards'] = df['Score'].apply(lambda x: int(x.split('-')[0]) if '-' in x else 0)\n",
    "\n",
    "# Create a column to represent the number of penalties in each match\n",
    "df['Penalties'] = df['Score'].apply(lambda x: int(x.split('-')[1]) if '-' in x else 0)\n",
    "\n",
    "# Calculate the total red cards and penalties for each referee\n",
    "referee_red_cards = df.groupby('Referee')['Red_Cards'].sum()\n",
    "referee_penalties = df.groupby('Referee')['Penalties'].sum()\n",
    "\n",
    "# Find referees associated with the most red cards and penalties\n",
    "referee_with_most_red_cards = referee_red_cards.idxmax()\n",
    "most_red_cards_count = referee_red_cards.max()\n",
    "\n",
    "referee_with_most_penalties = referee_penalties.idxmax()\n",
    "most_penalties_count = referee_penalties.max()\n",
    "\n",
    "print(f\"Referee with the most red cards: {referee_with_most_red_cards} ({most_red_cards_count} red cards)\")\n",
    "print(f\"Referee with the most penalties: {referee_with_most_penalties} ({most_penalties_count} penalties)\")"
   ],
   "metadata": {
    "collapsed": false,
    "ExecuteTime": {
     "end_time": "2023-09-02T19:04:27.417363100Z",
     "start_time": "2023-09-02T19:04:27.376519700Z"
    }
   },
   "id": "bf4e338e193541fe"
  }
 ],
 "metadata": {
  "kernelspec": {
   "display_name": "Python 3",
   "language": "python",
   "name": "python3"
  },
  "language_info": {
   "codemirror_mode": {
    "name": "ipython",
    "version": 2
   },
   "file_extension": ".py",
   "mimetype": "text/x-python",
   "name": "python",
   "nbconvert_exporter": "python",
   "pygments_lexer": "ipython2",
   "version": "2.7.6"
  }
 },
 "nbformat": 4,
 "nbformat_minor": 5
}
