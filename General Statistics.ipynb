{
 "cells": [
  {
   "cell_type": "code",
   "execution_count": 1,
   "id": "initial_id",
   "metadata": {
    "collapsed": true,
    "ExecuteTime": {
     "end_time": "2023-09-02T15:46:22.314265200Z",
     "start_time": "2023-09-02T15:46:19.140180600Z"
    }
   },
   "outputs": [],
   "source": [
    "import pandas as pd\n",
    "import matplotlib.pyplot as plt"
   ]
  },
  {
   "cell_type": "code",
   "execution_count": 10,
   "outputs": [],
   "source": [
    "# Load the dataset\n",
    "df = pd.read_csv(\"premier_league_adjusted.csv\")"
   ],
   "metadata": {
    "collapsed": false,
    "ExecuteTime": {
     "end_time": "2023-09-02T16:20:03.492732500Z",
     "start_time": "2023-09-02T16:20:03.453250700Z"
    }
   },
   "id": "5be55c21cb8cbdbe"
  },
  {
   "cell_type": "code",
   "execution_count": 11,
   "outputs": [
    {
     "data": {
      "text/plain": "   Week        Date      Time       Home_Team  Home_xG Score  Away_xG  \\\n0     1  2022-08-05  20:00:00  Crystal Palace      1.2   0–2      1.0   \n1     1  2022-08-06  12:30:00          Fulham      1.2   2–2      1.2   \n2     1  2022-08-06  15:00:00       Tottenham      1.5   4–1      0.5   \n3     1  2022-08-06  15:00:00   Newcastle Utd      1.7   2–0      0.3   \n4     1  2022-08-06  15:00:00    Leeds United      0.8   2–1      1.3   \n\n         Away_Team  Attendance                      Venue         Referee  \n0          Arsenal     25286.0              Selhurst Park  Anthony Taylor  \n1        Liverpool     22207.0             Craven Cottage     Andy Madley  \n2      Southampton     61732.0  Tottenham Hotspur Stadium  Andre Marriner  \n3  Nott'ham Forest     52245.0             St James' Park    Simon Hooper  \n4           Wolves     36347.0                Elland Road    Robert Jones  ",
      "text/html": "<div>\n<style scoped>\n    .dataframe tbody tr th:only-of-type {\n        vertical-align: middle;\n    }\n\n    .dataframe tbody tr th {\n        vertical-align: top;\n    }\n\n    .dataframe thead th {\n        text-align: right;\n    }\n</style>\n<table border=\"1\" class=\"dataframe\">\n  <thead>\n    <tr style=\"text-align: right;\">\n      <th></th>\n      <th>Week</th>\n      <th>Date</th>\n      <th>Time</th>\n      <th>Home_Team</th>\n      <th>Home_xG</th>\n      <th>Score</th>\n      <th>Away_xG</th>\n      <th>Away_Team</th>\n      <th>Attendance</th>\n      <th>Venue</th>\n      <th>Referee</th>\n    </tr>\n  </thead>\n  <tbody>\n    <tr>\n      <th>0</th>\n      <td>1</td>\n      <td>2022-08-05</td>\n      <td>20:00:00</td>\n      <td>Crystal Palace</td>\n      <td>1.2</td>\n      <td>0–2</td>\n      <td>1.0</td>\n      <td>Arsenal</td>\n      <td>25286.0</td>\n      <td>Selhurst Park</td>\n      <td>Anthony Taylor</td>\n    </tr>\n    <tr>\n      <th>1</th>\n      <td>1</td>\n      <td>2022-08-06</td>\n      <td>12:30:00</td>\n      <td>Fulham</td>\n      <td>1.2</td>\n      <td>2–2</td>\n      <td>1.2</td>\n      <td>Liverpool</td>\n      <td>22207.0</td>\n      <td>Craven Cottage</td>\n      <td>Andy Madley</td>\n    </tr>\n    <tr>\n      <th>2</th>\n      <td>1</td>\n      <td>2022-08-06</td>\n      <td>15:00:00</td>\n      <td>Tottenham</td>\n      <td>1.5</td>\n      <td>4–1</td>\n      <td>0.5</td>\n      <td>Southampton</td>\n      <td>61732.0</td>\n      <td>Tottenham Hotspur Stadium</td>\n      <td>Andre Marriner</td>\n    </tr>\n    <tr>\n      <th>3</th>\n      <td>1</td>\n      <td>2022-08-06</td>\n      <td>15:00:00</td>\n      <td>Newcastle Utd</td>\n      <td>1.7</td>\n      <td>2–0</td>\n      <td>0.3</td>\n      <td>Nott'ham Forest</td>\n      <td>52245.0</td>\n      <td>St James' Park</td>\n      <td>Simon Hooper</td>\n    </tr>\n    <tr>\n      <th>4</th>\n      <td>1</td>\n      <td>2022-08-06</td>\n      <td>15:00:00</td>\n      <td>Leeds United</td>\n      <td>0.8</td>\n      <td>2–1</td>\n      <td>1.3</td>\n      <td>Wolves</td>\n      <td>36347.0</td>\n      <td>Elland Road</td>\n      <td>Robert Jones</td>\n    </tr>\n  </tbody>\n</table>\n</div>"
     },
     "execution_count": 11,
     "metadata": {},
     "output_type": "execute_result"
    }
   ],
   "source": [
    "df.head()"
   ],
   "metadata": {
    "collapsed": false,
    "ExecuteTime": {
     "end_time": "2023-09-02T16:20:04.344180200Z",
     "start_time": "2023-09-02T16:20:04.299681Z"
    }
   },
   "id": "ef5f510409b60e07"
  },
  {
   "cell_type": "code",
   "execution_count": 12,
   "outputs": [
    {
     "data": {
      "text/plain": "(1900, 11)"
     },
     "execution_count": 12,
     "metadata": {},
     "output_type": "execute_result"
    }
   ],
   "source": [
    "df.shape"
   ],
   "metadata": {
    "collapsed": false,
    "ExecuteTime": {
     "end_time": "2023-09-02T16:20:05.958973500Z",
     "start_time": "2023-09-02T16:20:05.918610700Z"
    }
   },
   "id": "4ebc8626d0fb431"
  },
  {
   "cell_type": "code",
   "execution_count": 25,
   "outputs": [
    {
     "data": {
      "text/plain": "<Figure size 640x480 with 1 Axes>",
      "image/png": "[encoded data removed]"
     },
     "metadata": {},
     "output_type": "display_data"
    }
   ],
   "source": [
    "# Define a function to determine match outcome (win, loss, draw)\n",
    "def match_outcome(row):\n",
    "    home_score, away_score = map(int, list(row['Score'].replace('–', '')))\n",
    "    if home_score > away_score:\n",
    "        return 'Win'\n",
    "    elif home_score < away_score:\n",
    "        return 'Loss'\n",
    "    else:\n",
    "        return 'Draw'\n",
    "\n",
    "# Apply the function to each row to create a new column 'Outcome'\n",
    "df['Outcome'] = df.apply(match_outcome, axis=1)\n",
    "\n",
    "# Group the data by 'Home_Team' and count the outcomes\n",
    "team_outcomes_home = df.groupby('Home_Team')['Outcome'].value_counts().unstack().fillna(0)\n",
    "\n",
    "# Group the data by 'Away_Team' and count the outcomes\n",
    "team_outcomes_away = df.groupby('Away_Team')['Outcome'].value_counts().unstack().fillna(0)\n",
    "\n",
    "# Sum the results for each team to get the overall win-loss-draw distribution\n",
    "team_results = team_outcomes_home + team_outcomes_away\n",
    "\n",
    "# Plot the distribution for a specific team (replace 'Liverpool' with the team of interest)\n",
    "team_name = 'Liverpool'\n",
    "team_results.loc[team_name].plot(kind='bar', stacked=True)\n",
    "plt.title(f'Overall Win-Loss-Draw Distribution for {team_name}')\n",
    "plt.xlabel('Outcome')\n",
    "plt.ylabel('Count')\n",
    "plt.show()"
   ],
   "metadata": {
    "collapsed": false,
    "ExecuteTime": {
     "end_time": "2023-09-02T16:33:40.525363700Z",
     "start_time": "2023-09-02T16:33:39.628786800Z"
    }
   },
   "id": "87432cbc78f7e222"
  },
  {
   "cell_type": "code",
   "execution_count": 26,
   "outputs": [
    {
     "name": "stdout",
     "output_type": "stream",
     "text": [
      "Highest Average Home xG: Newcastle Utd (2.29)\n",
      "Lowest Average Home xG: Crystal Palace (1.06)\n",
      "Highest Average Away xG: Manchester City (1.90)\n",
      "Lowest Average Away xG: Wolves (0.83)\n"
     ]
    }
   ],
   "source": [
    "# Calculate average home xG for each team\n",
    "avg_home_xg = df.groupby('Home_Team')['Home_xG'].mean()\n",
    "\n",
    "# Calculate average away xG for each team\n",
    "avg_away_xg = df.groupby('Away_Team')['Away_xG'].mean()\n",
    "\n",
    "# Find the team with the highest average home xG\n",
    "highest_home_xg_team = avg_home_xg.idxmax()\n",
    "highest_home_xg_value = avg_home_xg.max()\n",
    "\n",
    "# Find the team with the lowest average home xG\n",
    "lowest_home_xg_team = avg_home_xg.idxmin()\n",
    "lowest_home_xg_value = avg_home_xg.min()\n",
    "\n",
    "# Find the team with the highest average away xG\n",
    "highest_away_xg_team = avg_away_xg.idxmax()\n",
    "highest_away_xg_value = avg_away_xg.max()\n",
    "\n",
    "# Find the team with the lowest average away xG\n",
    "lowest_away_xg_team = avg_away_xg.idxmin()\n",
    "lowest_away_xg_value = avg_away_xg.min()\n",
    "\n",
    "print(f\"Highest Average Home xG: {highest_home_xg_team} ({highest_home_xg_value:.2f})\")\n",
    "print(f\"Lowest Average Home xG: {lowest_home_xg_team} ({lowest_home_xg_value:.2f})\")\n",
    "print(f\"Highest Average Away xG: {highest_away_xg_team} ({highest_away_xg_value:.2f})\")\n",
    "print(f\"Lowest Average Away xG: {lowest_away_xg_team} ({lowest_away_xg_value:.2f})\")"
   ],
   "metadata": {
    "collapsed": false,
    "ExecuteTime": {
     "end_time": "2023-09-02T16:34:56.050967700Z",
     "start_time": "2023-09-02T16:34:56.016126800Z"
    }
   },
   "id": "dd050b58652df8d0"
  }
 ],
 "metadata": {
  "kernelspec": {
   "display_name": "Python 3",
   "language": "python",
   "name": "python3"
  },
  "language_info": {
   "codemirror_mode": {
    "name": "ipython",
    "version": 2
   },
   "file_extension": ".py",
   "mimetype": "text/x-python",
   "name": "python",
   "nbconvert_exporter": "python",
   "pygments_lexer": "ipython2",
   "version": "2.7.6"
  }
 },
 "nbformat": 4,
 "nbformat_minor": 5
}
