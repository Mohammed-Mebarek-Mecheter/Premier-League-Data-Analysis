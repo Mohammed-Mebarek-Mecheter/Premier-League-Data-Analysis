{
 "cells": [
  {
   "cell_type": "code",
   "execution_count": 9,
   "id": "initial_id",
   "metadata": {
    "collapsed": true,
    "ExecuteTime": {
     "end_time": "2023-09-02T16:03:17.367487100Z",
     "start_time": "2023-09-02T16:03:17.327287800Z"
    }
   },
   "outputs": [],
   "source": [
    "import pandas as pd\n",
    "import numpy as np"
   ]
  },
  {
   "cell_type": "code",
   "execution_count": 2,
   "outputs": [],
   "source": [
    "# Load the dataset\n",
    "df = pd.read_csv(\"data/premier_league_all_matches.csv\")"
   ],
   "metadata": {
    "collapsed": false,
    "ExecuteTime": {
     "end_time": "2023-09-02T15:50:49.453795300Z",
     "start_time": "2023-09-02T15:50:49.416217600Z"
    }
   },
   "id": "8d1f9bd65d86545f"
  },
  {
   "cell_type": "code",
   "execution_count": 3,
   "outputs": [
    {
     "data": {
      "text/plain": "Week          0\nDate          0\nTime          0\nHome_Team     0\nHome_xG       0\nScore         0\nAway_xG       0\nAway_Team     0\nAttendance    5\nVenue         0\nReferee       0\ndtype: int64"
     },
     "execution_count": 3,
     "metadata": {},
     "output_type": "execute_result"
    }
   ],
   "source": [
    "missing_data = df.isnull().sum()\n",
    "missing_data"
   ],
   "metadata": {
    "collapsed": false,
    "ExecuteTime": {
     "end_time": "2023-09-02T15:50:58.548557800Z",
     "start_time": "2023-09-02T15:50:58.459287800Z"
    }
   },
   "id": "f66df49b22e3b74d"
  },
  {
   "cell_type": "code",
   "execution_count": 10,
   "outputs": [
    {
     "data": {
      "text/plain": "40500.444444444445"
     },
     "execution_count": 10,
     "metadata": {},
     "output_type": "execute_result"
    }
   ],
   "source": [
    "# Calculate the mean attendance for Brighton's away matches\n",
    "brighton_away_attendance_mean = df[df['Away_Team'] == 'Brighton']['Attendance'].mean()\n",
    "brighton_away_attendance_mean"
   ],
   "metadata": {
    "collapsed": false,
    "ExecuteTime": {
     "end_time": "2023-09-02T16:03:41.711319800Z",
     "start_time": "2023-09-02T16:03:41.673729800Z"
    }
   },
   "id": "e57c8e6bf9330f18"
  },
  {
   "cell_type": "code",
   "execution_count": 11,
   "outputs": [],
   "source": [
    "# Fill missing values in 'Attendance' column for Brighton's away matches with the mean\n",
    "df.loc[(df['Away_Team'] == 'Brighton') & (df['Attendance'].isnull()), 'Attendance'] = brighton_away_attendance_mean"
   ],
   "metadata": {
    "collapsed": false,
    "ExecuteTime": {
     "end_time": "2023-09-02T16:04:15.826329500Z",
     "start_time": "2023-09-02T16:04:15.784060200Z"
    }
   },
   "id": "61d989ce8eaf7b57"
  },
  {
   "cell_type": "code",
   "execution_count": 15,
   "outputs": [
    {
     "data": {
      "text/plain": "      Week        Date   Time       Home_Team  Home_xG Score  Away_xG  \\\n1895    38  2023-05-28  16:30         Everton      1.0   1–0      0.5   \n1896    38  2023-05-28  16:30  Leicester City      1.4   2–1      1.4   \n1897    38  2023-05-28  16:30     Aston Villa      2.8   2–1      1.4   \n1898    38  2023-05-28  16:30    Leeds United      1.5   1–4      2.2   \n1899    38  2023-05-28  16:30       Brentford      1.3   1–0      1.6   \n\n            Away_Team    Attendance                        Venue  \\\n1895      Bournemouth  39201.000000                Goodison Park   \n1896         West Ham  32183.000000           King Power Stadium   \n1897         Brighton  40500.444444                   Villa Park   \n1898        Tottenham  36871.000000                  Elland Road   \n1899  Manchester City  17120.000000  Brentford Community Stadium   \n\n             Referee  \n1895  Stuart Attwell  \n1896    Simon Hooper  \n1897     David Coote  \n1898  Anthony Taylor  \n1899     John Brooks  ",
      "text/html": "<div>\n<style scoped>\n    .dataframe tbody tr th:only-of-type {\n        vertical-align: middle;\n    }\n\n    .dataframe tbody tr th {\n        vertical-align: top;\n    }\n\n    .dataframe thead th {\n        text-align: right;\n    }\n</style>\n<table border=\"1\" class=\"dataframe\">\n  <thead>\n    <tr style=\"text-align: right;\">\n      <th></th>\n      <th>Week</th>\n      <th>Date</th>\n      <th>Time</th>\n      <th>Home_Team</th>\n      <th>Home_xG</th>\n      <th>Score</th>\n      <th>Away_xG</th>\n      <th>Away_Team</th>\n      <th>Attendance</th>\n      <th>Venue</th>\n      <th>Referee</th>\n    </tr>\n  </thead>\n  <tbody>\n    <tr>\n      <th>1895</th>\n      <td>38</td>\n      <td>2023-05-28</td>\n      <td>16:30</td>\n      <td>Everton</td>\n      <td>1.0</td>\n      <td>1–0</td>\n      <td>0.5</td>\n      <td>Bournemouth</td>\n      <td>39201.000000</td>\n      <td>Goodison Park</td>\n      <td>Stuart Attwell</td>\n    </tr>\n    <tr>\n      <th>1896</th>\n      <td>38</td>\n      <td>2023-05-28</td>\n      <td>16:30</td>\n      <td>Leicester City</td>\n      <td>1.4</td>\n      <td>2–1</td>\n      <td>1.4</td>\n      <td>West Ham</td>\n      <td>32183.000000</td>\n      <td>King Power Stadium</td>\n      <td>Simon Hooper</td>\n    </tr>\n    <tr>\n      <th>1897</th>\n      <td>38</td>\n      <td>2023-05-28</td>\n      <td>16:30</td>\n      <td>Aston Villa</td>\n      <td>2.8</td>\n      <td>2–1</td>\n      <td>1.4</td>\n      <td>Brighton</td>\n      <td>40500.444444</td>\n      <td>Villa Park</td>\n      <td>David Coote</td>\n    </tr>\n    <tr>\n      <th>1898</th>\n      <td>38</td>\n      <td>2023-05-28</td>\n      <td>16:30</td>\n      <td>Leeds United</td>\n      <td>1.5</td>\n      <td>1–4</td>\n      <td>2.2</td>\n      <td>Tottenham</td>\n      <td>36871.000000</td>\n      <td>Elland Road</td>\n      <td>Anthony Taylor</td>\n    </tr>\n    <tr>\n      <th>1899</th>\n      <td>38</td>\n      <td>2023-05-28</td>\n      <td>16:30</td>\n      <td>Brentford</td>\n      <td>1.3</td>\n      <td>1–0</td>\n      <td>1.6</td>\n      <td>Manchester City</td>\n      <td>17120.000000</td>\n      <td>Brentford Community Stadium</td>\n      <td>John Brooks</td>\n    </tr>\n  </tbody>\n</table>\n</div>"
     },
     "execution_count": 15,
     "metadata": {},
     "output_type": "execute_result"
    }
   ],
   "source": [
    "df.tail()"
   ],
   "metadata": {
    "collapsed": false,
    "ExecuteTime": {
     "end_time": "2023-09-02T16:06:29.942434900Z",
     "start_time": "2023-09-02T16:06:29.890357900Z"
    }
   },
   "id": "cd399a16ece1866a"
  },
  {
   "cell_type": "code",
   "execution_count": 17,
   "outputs": [
    {
     "name": "stdout",
     "output_type": "stream",
     "text": [
      "Week                   int64\n",
      "Date          datetime64[ns]\n",
      "Time                  object\n",
      "Home_Team             object\n",
      "Home_xG              float64\n",
      "Score                 object\n",
      "Away_xG              float64\n",
      "Away_Team             object\n",
      "Attendance           float64\n",
      "Venue                 object\n",
      "Referee               object\n",
      "dtype: object\n"
     ]
    }
   ],
   "source": [
    "# Convert the 'Date' column to a DateTime object\n",
    "df['Date'] = pd.to_datetime(df['Date'])\n",
    "# Convert the 'Time' column to a DateTime object (time only)\n",
    "df['Time'] = pd.to_datetime(df['Time'], format='%H:%M').dt.time\n",
    "# Verify the data types have been converted\n",
    "print(df.dtypes)"
   ],
   "metadata": {
    "collapsed": false,
    "ExecuteTime": {
     "end_time": "2023-09-02T16:10:23.963490600Z",
     "start_time": "2023-09-02T16:10:23.731992800Z"
    }
   },
   "id": "7e155513dbb156b7"
  },
  {
   "cell_type": "code",
   "execution_count": 19,
   "outputs": [],
   "source": [
    "df['Home_Team'] = df['Home_Team'].astype('category')\n",
    "df['Away_Team'] = df['Away_Team'].astype('category')"
   ],
   "metadata": {
    "collapsed": false,
    "ExecuteTime": {
     "end_time": "2023-09-02T16:16:32.012404800Z",
     "start_time": "2023-09-02T16:16:31.971121800Z"
    }
   },
   "id": "64108e0ab5d70ce6"
  },
  {
   "cell_type": "code",
   "execution_count": 20,
   "outputs": [
    {
     "data": {
      "text/plain": "Week                   int64\nDate          datetime64[ns]\nTime                  object\nHome_Team           category\nHome_xG              float64\nScore                 object\nAway_xG              float64\nAway_Team           category\nAttendance           float64\nVenue                 object\nReferee               object\ndtype: object"
     },
     "execution_count": 20,
     "metadata": {},
     "output_type": "execute_result"
    }
   ],
   "source": [
    "df.dtypes"
   ],
   "metadata": {
    "collapsed": false,
    "ExecuteTime": {
     "end_time": "2023-09-02T16:16:55.392387100Z",
     "start_time": "2023-09-02T16:16:55.372961900Z"
    }
   },
   "id": "29c2c05054d169fb"
  },
  {
   "cell_type": "code",
   "execution_count": 21,
   "outputs": [],
   "source": [
    "df.to_csv(\"premier_league_adjusted.csv\", index=False)"
   ],
   "metadata": {
    "collapsed": false,
    "ExecuteTime": {
     "end_time": "2023-09-02T16:17:30.954060Z",
     "start_time": "2023-09-02T16:17:30.886222100Z"
    }
   },
   "id": "dde91e9fb8d543f4"
  }
 ],
 "metadata": {
  "kernelspec": {
   "display_name": "Python 3",
   "language": "python",
   "name": "python3"
  },
  "language_info": {
   "codemirror_mode": {
    "name": "ipython",
    "version": 2
   },
   "file_extension": ".py",
   "mimetype": "text/x-python",
   "name": "python",
   "nbconvert_exporter": "python",
   "pygments_lexer": "ipython2",
   "version": "2.7.6"
  }
 },
 "nbformat": 4,
 "nbformat_minor": 5
}
